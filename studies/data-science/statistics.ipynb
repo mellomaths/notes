{
 "cells": [
  {
   "cell_type": "markdown",
   "id": "4ee92839",
   "metadata": {},
   "source": [
    "# Statistics"
   ]
  },
  {
   "cell_type": "markdown",
   "id": "15c3b5be",
   "metadata": {},
   "source": [
    "Exploring meanings behind Mean and Median values by calculating the standard deviation and analysing charts like boxplot and histograms."
   ]
  },
  {
   "cell_type": "markdown",
   "id": "2951900f",
   "metadata": {},
   "source": [
    "## Importing pandas"
   ]
  },
  {
   "cell_type": "code",
   "execution_count": 60,
   "id": "a5fa3dac",
   "metadata": {},
   "outputs": [],
   "source": [
    "import pandas as pd"
   ]
  },
  {
   "cell_type": "markdown",
   "id": "fbbd2d8c",
   "metadata": {},
   "source": [
    "## Reading Ratings and Movie CSV files"
   ]
  },
  {
   "cell_type": "code",
   "execution_count": 61,
   "id": "b19fe54b",
   "metadata": {},
   "outputs": [
    {
     "data": {
      "text/html": [
       "<div>\n",
       "<style scoped>\n",
       "    .dataframe tbody tr th:only-of-type {\n",
       "        vertical-align: middle;\n",
       "    }\n",
       "\n",
       "    .dataframe tbody tr th {\n",
       "        vertical-align: top;\n",
       "    }\n",
       "\n",
       "    .dataframe thead th {\n",
       "        text-align: right;\n",
       "    }\n",
       "</style>\n",
       "<table border=\"1\" class=\"dataframe\">\n",
       "  <thead>\n",
       "    <tr style=\"text-align: right;\">\n",
       "      <th></th>\n",
       "      <th>movieId</th>\n",
       "      <th>title</th>\n",
       "      <th>genres</th>\n",
       "    </tr>\n",
       "  </thead>\n",
       "  <tbody>\n",
       "    <tr>\n",
       "      <th>0</th>\n",
       "      <td>1</td>\n",
       "      <td>Toy Story (1995)</td>\n",
       "      <td>Adventure|Animation|Children|Comedy|Fantasy</td>\n",
       "    </tr>\n",
       "    <tr>\n",
       "      <th>1</th>\n",
       "      <td>2</td>\n",
       "      <td>Jumanji (1995)</td>\n",
       "      <td>Adventure|Children|Fantasy</td>\n",
       "    </tr>\n",
       "    <tr>\n",
       "      <th>2</th>\n",
       "      <td>3</td>\n",
       "      <td>Grumpier Old Men (1995)</td>\n",
       "      <td>Comedy|Romance</td>\n",
       "    </tr>\n",
       "    <tr>\n",
       "      <th>3</th>\n",
       "      <td>4</td>\n",
       "      <td>Waiting to Exhale (1995)</td>\n",
       "      <td>Comedy|Drama|Romance</td>\n",
       "    </tr>\n",
       "    <tr>\n",
       "      <th>4</th>\n",
       "      <td>5</td>\n",
       "      <td>Father of the Bride Part II (1995)</td>\n",
       "      <td>Comedy</td>\n",
       "    </tr>\n",
       "  </tbody>\n",
       "</table>\n",
       "</div>"
      ],
      "text/plain": [
       "   movieId                               title  \\\n",
       "0        1                    Toy Story (1995)   \n",
       "1        2                      Jumanji (1995)   \n",
       "2        3             Grumpier Old Men (1995)   \n",
       "3        4            Waiting to Exhale (1995)   \n",
       "4        5  Father of the Bride Part II (1995)   \n",
       "\n",
       "                                        genres  \n",
       "0  Adventure|Animation|Children|Comedy|Fantasy  \n",
       "1                   Adventure|Children|Fantasy  \n",
       "2                               Comedy|Romance  \n",
       "3                         Comedy|Drama|Romance  \n",
       "4                                       Comedy  "
      ]
     },
     "execution_count": 61,
     "metadata": {},
     "output_type": "execute_result"
    }
   ],
   "source": [
    "movies = pd.read_csv(\"data/movielens/movies.csv\")\n",
    "movies.head()"
   ]
  },
  {
   "cell_type": "code",
   "execution_count": 62,
   "id": "65a7720b",
   "metadata": {},
   "outputs": [
    {
     "data": {
      "text/html": [
       "<div>\n",
       "<style scoped>\n",
       "    .dataframe tbody tr th:only-of-type {\n",
       "        vertical-align: middle;\n",
       "    }\n",
       "\n",
       "    .dataframe tbody tr th {\n",
       "        vertical-align: top;\n",
       "    }\n",
       "\n",
       "    .dataframe thead th {\n",
       "        text-align: right;\n",
       "    }\n",
       "</style>\n",
       "<table border=\"1\" class=\"dataframe\">\n",
       "  <thead>\n",
       "    <tr style=\"text-align: right;\">\n",
       "      <th></th>\n",
       "      <th>userId</th>\n",
       "      <th>movieId</th>\n",
       "      <th>rating</th>\n",
       "      <th>timestamp</th>\n",
       "    </tr>\n",
       "  </thead>\n",
       "  <tbody>\n",
       "    <tr>\n",
       "      <th>0</th>\n",
       "      <td>1</td>\n",
       "      <td>1</td>\n",
       "      <td>4.0</td>\n",
       "      <td>964982703</td>\n",
       "    </tr>\n",
       "    <tr>\n",
       "      <th>1</th>\n",
       "      <td>1</td>\n",
       "      <td>3</td>\n",
       "      <td>4.0</td>\n",
       "      <td>964981247</td>\n",
       "    </tr>\n",
       "    <tr>\n",
       "      <th>2</th>\n",
       "      <td>1</td>\n",
       "      <td>6</td>\n",
       "      <td>4.0</td>\n",
       "      <td>964982224</td>\n",
       "    </tr>\n",
       "    <tr>\n",
       "      <th>3</th>\n",
       "      <td>1</td>\n",
       "      <td>47</td>\n",
       "      <td>5.0</td>\n",
       "      <td>964983815</td>\n",
       "    </tr>\n",
       "    <tr>\n",
       "      <th>4</th>\n",
       "      <td>1</td>\n",
       "      <td>50</td>\n",
       "      <td>5.0</td>\n",
       "      <td>964982931</td>\n",
       "    </tr>\n",
       "  </tbody>\n",
       "</table>\n",
       "</div>"
      ],
      "text/plain": [
       "   userId  movieId  rating  timestamp\n",
       "0       1        1     4.0  964982703\n",
       "1       1        3     4.0  964981247\n",
       "2       1        6     4.0  964982224\n",
       "3       1       47     5.0  964983815\n",
       "4       1       50     5.0  964982931"
      ]
     },
     "execution_count": 62,
     "metadata": {},
     "output_type": "execute_result"
    }
   ],
   "source": [
    "ratings = pd.read_csv(\"data/movielens/ratings.csv\")\n",
    "ratings.head()"
   ]
  },
  {
   "cell_type": "markdown",
   "id": "ee415a3d",
   "metadata": {},
   "source": [
    "## Querying ratings for a specific movie"
   ]
  },
  {
   "cell_type": "code",
   "execution_count": 63,
   "id": "cf7756b8",
   "metadata": {},
   "outputs": [
    {
     "data": {
      "text/html": [
       "<div>\n",
       "<style scoped>\n",
       "    .dataframe tbody tr th:only-of-type {\n",
       "        vertical-align: middle;\n",
       "    }\n",
       "\n",
       "    .dataframe tbody tr th {\n",
       "        vertical-align: top;\n",
       "    }\n",
       "\n",
       "    .dataframe thead th {\n",
       "        text-align: right;\n",
       "    }\n",
       "</style>\n",
       "<table border=\"1\" class=\"dataframe\">\n",
       "  <thead>\n",
       "    <tr style=\"text-align: right;\">\n",
       "      <th></th>\n",
       "      <th>userId</th>\n",
       "      <th>movieId</th>\n",
       "      <th>rating</th>\n",
       "      <th>timestamp</th>\n",
       "    </tr>\n",
       "  </thead>\n",
       "  <tbody>\n",
       "    <tr>\n",
       "      <th>0</th>\n",
       "      <td>1</td>\n",
       "      <td>1</td>\n",
       "      <td>4.0</td>\n",
       "      <td>964982703</td>\n",
       "    </tr>\n",
       "    <tr>\n",
       "      <th>516</th>\n",
       "      <td>5</td>\n",
       "      <td>1</td>\n",
       "      <td>4.0</td>\n",
       "      <td>847434962</td>\n",
       "    </tr>\n",
       "    <tr>\n",
       "      <th>874</th>\n",
       "      <td>7</td>\n",
       "      <td>1</td>\n",
       "      <td>4.5</td>\n",
       "      <td>1106635946</td>\n",
       "    </tr>\n",
       "    <tr>\n",
       "      <th>1434</th>\n",
       "      <td>15</td>\n",
       "      <td>1</td>\n",
       "      <td>2.5</td>\n",
       "      <td>1510577970</td>\n",
       "    </tr>\n",
       "    <tr>\n",
       "      <th>1667</th>\n",
       "      <td>17</td>\n",
       "      <td>1</td>\n",
       "      <td>4.5</td>\n",
       "      <td>1305696483</td>\n",
       "    </tr>\n",
       "  </tbody>\n",
       "</table>\n",
       "</div>"
      ],
      "text/plain": [
       "      userId  movieId  rating   timestamp\n",
       "0          1        1     4.0   964982703\n",
       "516        5        1     4.0   847434962\n",
       "874        7        1     4.5  1106635946\n",
       "1434      15        1     2.5  1510577970\n",
       "1667      17        1     4.5  1305696483"
      ]
     },
     "execution_count": 63,
     "metadata": {},
     "output_type": "execute_result"
    }
   ],
   "source": [
    "toy_story_ratings = ratings.query(\"movieId == 1\")\n",
    "toy_story_ratings.head()"
   ]
  },
  {
   "cell_type": "markdown",
   "id": "3344de7b",
   "metadata": {},
   "source": [
    "## Understanding the meaning behind Mean, Median, and so on"
   ]
  },
  {
   "cell_type": "code",
   "execution_count": 64,
   "id": "381a7e7f",
   "metadata": {},
   "outputs": [
    {
     "data": {
      "text/html": [
       "<div>\n",
       "<style scoped>\n",
       "    .dataframe tbody tr th:only-of-type {\n",
       "        vertical-align: middle;\n",
       "    }\n",
       "\n",
       "    .dataframe tbody tr th {\n",
       "        vertical-align: top;\n",
       "    }\n",
       "\n",
       "    .dataframe thead th {\n",
       "        text-align: right;\n",
       "    }\n",
       "</style>\n",
       "<table border=\"1\" class=\"dataframe\">\n",
       "  <thead>\n",
       "    <tr style=\"text-align: right;\">\n",
       "      <th></th>\n",
       "      <th>userId</th>\n",
       "      <th>movieId</th>\n",
       "      <th>rating</th>\n",
       "      <th>timestamp</th>\n",
       "    </tr>\n",
       "  </thead>\n",
       "  <tbody>\n",
       "    <tr>\n",
       "      <th>560</th>\n",
       "      <td>6</td>\n",
       "      <td>2</td>\n",
       "      <td>4.0</td>\n",
       "      <td>845553522</td>\n",
       "    </tr>\n",
       "    <tr>\n",
       "      <th>1026</th>\n",
       "      <td>8</td>\n",
       "      <td>2</td>\n",
       "      <td>4.0</td>\n",
       "      <td>839463806</td>\n",
       "    </tr>\n",
       "    <tr>\n",
       "      <th>1773</th>\n",
       "      <td>18</td>\n",
       "      <td>2</td>\n",
       "      <td>3.0</td>\n",
       "      <td>1455617462</td>\n",
       "    </tr>\n",
       "    <tr>\n",
       "      <th>2275</th>\n",
       "      <td>19</td>\n",
       "      <td>2</td>\n",
       "      <td>3.0</td>\n",
       "      <td>965704331</td>\n",
       "    </tr>\n",
       "    <tr>\n",
       "      <th>2977</th>\n",
       "      <td>20</td>\n",
       "      <td>2</td>\n",
       "      <td>3.0</td>\n",
       "      <td>1054038313</td>\n",
       "    </tr>\n",
       "  </tbody>\n",
       "</table>\n",
       "</div>"
      ],
      "text/plain": [
       "      userId  movieId  rating   timestamp\n",
       "560        6        2     4.0   845553522\n",
       "1026       8        2     4.0   839463806\n",
       "1773      18        2     3.0  1455617462\n",
       "2275      19        2     3.0   965704331\n",
       "2977      20        2     3.0  1054038313"
      ]
     },
     "execution_count": 64,
     "metadata": {},
     "output_type": "execute_result"
    }
   ],
   "source": [
    "jumanji_ratings = ratings.query(\"movieId == 2\")\n",
    "jumanji_ratings.head()"
   ]
  },
  {
   "cell_type": "code",
   "execution_count": 65,
   "id": "09f37e56",
   "metadata": {},
   "outputs": [
    {
     "name": "stdout",
     "output_type": "stream",
     "text": [
      "Rating count for Toy Story: 215\n",
      "Rating count for Jumanji: 110\n"
     ]
    }
   ],
   "source": [
    "print(f\"Rating count for Toy Story: {len(toy_story_ratings)}\")\n",
    "print(f\"Rating count for Jumanji: {len(jumanji_ratings)}\")"
   ]
  },
  {
   "cell_type": "code",
   "execution_count": 66,
   "id": "e66ab4c2",
   "metadata": {},
   "outputs": [
    {
     "name": "stdout",
     "output_type": "stream",
     "text": [
      "Average Rating for Toy Story: 3.9209302325581397\n",
      "Average Rating for Jumanji: 3.4318181818181817\n"
     ]
    }
   ],
   "source": [
    "print(f\"Average Rating for Toy Story: {toy_story_ratings.rating.mean()}\")\n",
    "print(f\"Average Rating for Jumanji: {jumanji_ratings.rating.mean()}\")"
   ]
  },
  {
   "cell_type": "code",
   "execution_count": 67,
   "id": "2daa276a",
   "metadata": {},
   "outputs": [
    {
     "name": "stdout",
     "output_type": "stream",
     "text": [
      "Median Rating for Toy Story: 4.0\n",
      "Median Rating for Jumanji: 3.5\n"
     ]
    }
   ],
   "source": [
    "print(f\"Median Rating for Toy Story: {toy_story_ratings.rating.median()}\")\n",
    "print(f\"Median Rating for Jumanji: {jumanji_ratings.rating.median()}\")"
   ]
  },
  {
   "cell_type": "markdown",
   "id": "68798006",
   "metadata": {},
   "source": [
    "### Importing numpy"
   ]
  },
  {
   "cell_type": "code",
   "execution_count": 68,
   "id": "8879d3db",
   "metadata": {},
   "outputs": [],
   "source": [
    "import numpy as np"
   ]
  },
  {
   "cell_type": "code",
   "execution_count": 69,
   "id": "4db77c2d",
   "metadata": {},
   "outputs": [],
   "source": [
    "# Generating ratings for fake movies\n",
    "movie1_ratings = np.append(np.array([2.5] * 10), np.array([3.5] * 10))\n",
    "movie2_ratings = np.append(np.array([5] * 10), np.array([1] * 10))"
   ]
  },
  {
   "cell_type": "code",
   "execution_count": 70,
   "id": "cf82fed6",
   "metadata": {},
   "outputs": [
    {
     "name": "stdout",
     "output_type": "stream",
     "text": [
      "Movie 1 average rating is 3.0\n",
      "Movie 2 average rating is 3.0\n"
     ]
    }
   ],
   "source": [
    "print(f\"Movie 1 average rating is {movie1_ratings.mean()}\")\n",
    "print(f\"Movie 2 average rating is {movie2_ratings.mean()}\")"
   ]
  },
  {
   "cell_type": "code",
   "execution_count": 71,
   "id": "19890dc5",
   "metadata": {},
   "outputs": [
    {
     "name": "stdout",
     "output_type": "stream",
     "text": [
      "Movie 1 median rating is 3.0\n",
      "Movie 2 median rating is 3.0\n"
     ]
    }
   ],
   "source": [
    "print(f\"Movie 1 median rating is {np.median(movie1_ratings)}\")\n",
    "print(f\"Movie 2 median rating is {np.median(movie2_ratings)}\")"
   ]
  },
  {
   "cell_type": "markdown",
   "id": "f2cc785e",
   "metadata": {},
   "source": [
    "As you can see, even though those rating sets are completely different from each other, they have the same exact mean and median values. Calculating mean/median values makes you loose information on how the ratings in this example are distributed."
   ]
  },
  {
   "cell_type": "markdown",
   "id": "176b81f0",
   "metadata": {},
   "source": [
    "### Importing matplotlib.pyplot"
   ]
  },
  {
   "cell_type": "code",
   "execution_count": 72,
   "id": "79d06731",
   "metadata": {},
   "outputs": [],
   "source": [
    "import matplotlib.pyplot as plt"
   ]
  },
  {
   "cell_type": "markdown",
   "id": "4ed47621",
   "metadata": {},
   "source": [
    "### Importing seaborn"
   ]
  },
  {
   "cell_type": "code",
   "execution_count": 73,
   "id": "778b6dab",
   "metadata": {},
   "outputs": [],
   "source": [
    "import seaborn as sns"
   ]
  },
  {
   "cell_type": "code",
   "execution_count": 74,
   "id": "063bf2b7",
   "metadata": {},
   "outputs": [
    {
     "data": {
      "text/plain": [
       "(array([10.,  0.,  0.,  0.,  0.,  0.,  0.,  0.,  0., 10.]),\n",
       " array([1. , 1.4, 1.8, 2.2, 2.6, 3. , 3.4, 3.8, 4.2, 4.6, 5. ]),\n",
       " <BarContainer object of 10 artists>)"
      ]
     },
     "execution_count": 74,
     "metadata": {},
     "output_type": "execute_result"
    },
    {
     "data": {
      "image/png": "[encoded data removed]",
      "text/plain": [
       "<Figure size 432x288 with 1 Axes>"
      ]
     },
     "metadata": {
      "needs_background": "light"
     },
     "output_type": "display_data"
    }
   ],
   "source": [
    "plt.hist(movie1_ratings)\n",
    "plt.hist(movie2_ratings)"
   ]
  },
  {
   "cell_type": "code",
   "execution_count": 75,
   "id": "437968fa",
   "metadata": {},
   "outputs": [
    {
     "data": {
      "text/plain": [
       "{'whiskers': [<matplotlib.lines.Line2D at 0x1175910>,\n",
       "  <matplotlib.lines.Line2D at 0x1175ad8>,\n",
       "  <matplotlib.lines.Line2D at 0x11835b0>,\n",
       "  <matplotlib.lines.Line2D at 0x1183778>],\n",
       " 'caps': [<matplotlib.lines.Line2D at 0x1175ca0>,\n",
       "  <matplotlib.lines.Line2D at 0x1175e68>,\n",
       "  <matplotlib.lines.Line2D at 0x1183940>,\n",
       "  <matplotlib.lines.Line2D at 0x1183b08>],\n",
       " 'boxes': [<matplotlib.lines.Line2D at 0x1175748>,\n",
       "  <matplotlib.lines.Line2D at 0x11833e8>],\n",
       " 'medians': [<matplotlib.lines.Line2D at 0x1183058>,\n",
       "  <matplotlib.lines.Line2D at 0x1183cd0>],\n",
       " 'fliers': [<matplotlib.lines.Line2D at 0x1183220>,\n",
       "  <matplotlib.lines.Line2D at 0x1183e98>],\n",
       " 'means': []}"
      ]
     },
     "execution_count": 75,
     "metadata": {},
     "output_type": "execute_result"
    },
    {
     "data": {
      "image/png": "[encoded data removed]",
      "text/plain": [
       "<Figure size 432x288 with 1 Axes>"
      ]
     },
     "metadata": {
      "needs_background": "light"
     },
     "output_type": "display_data"
    }
   ],
   "source": [
    "plt.boxplot([movie1_ratings, movie2_ratings])"
   ]
  },
  {
   "cell_type": "code",
   "execution_count": 76,
   "id": "85f5037f",
   "metadata": {},
   "outputs": [
    {
     "data": {
      "text/plain": [
       "{'whiskers': [<matplotlib.lines.Line2D at 0x11bf628>,\n",
       "  <matplotlib.lines.Line2D at 0x11bf7f0>,\n",
       "  <matplotlib.lines.Line2D at 0x11cd2c8>,\n",
       "  <matplotlib.lines.Line2D at 0x11cd490>],\n",
       " 'caps': [<matplotlib.lines.Line2D at 0x11bf9b8>,\n",
       "  <matplotlib.lines.Line2D at 0x11bfb80>,\n",
       "  <matplotlib.lines.Line2D at 0x11cd658>,\n",
       "  <matplotlib.lines.Line2D at 0x11cd820>],\n",
       " 'boxes': [<matplotlib.lines.Line2D at 0x11bf460>,\n",
       "  <matplotlib.lines.Line2D at 0x11cd100>],\n",
       " 'medians': [<matplotlib.lines.Line2D at 0x11bfd48>,\n",
       "  <matplotlib.lines.Line2D at 0x11cd9e8>],\n",
       " 'fliers': [<matplotlib.lines.Line2D at 0x11bff10>,\n",
       "  <matplotlib.lines.Line2D at 0x11cdbb0>],\n",
       " 'means': []}"
      ]
     },
     "execution_count": 76,
     "metadata": {},
     "output_type": "execute_result"
    },
    {
     "data": {
      "image/png": "[encoded data removed]",
      "text/plain": [
       "<Figure size 432x288 with 1 Axes>"
      ]
     },
     "metadata": {
      "needs_background": "light"
     },
     "output_type": "display_data"
    }
   ],
   "source": [
    "plt.boxplot([toy_story_ratings.rating, jumanji_ratings.rating])"
   ]
  },
  {
   "cell_type": "code",
   "execution_count": 77,
   "id": "510aa3ef",
   "metadata": {},
   "outputs": [
    {
     "data": {
      "text/plain": [
       "<AxesSubplot:xlabel='movieId', ylabel='rating'>"
      ]
     },
     "execution_count": 77,
     "metadata": {},
     "output_type": "execute_result"
    },
    {
     "data": {
      "image/png": "[encoded data removed]",
      "text/plain": [
       "<Figure size 432x288 with 1 Axes>"
      ]
     },
     "metadata": {
      "needs_background": "light"
     },
     "output_type": "display_data"
    }
   ],
   "source": [
    "sns.boxplot(x=\"movieId\", y=\"rating\", data=ratings.query(\"movieId in [1,2]\"))"
   ]
  },
  {
   "cell_type": "code",
   "execution_count": 78,
   "id": "f3a0c405",
   "metadata": {},
   "outputs": [
    {
     "data": {
      "text/plain": [
       "<AxesSubplot:xlabel='movieId', ylabel='rating'>"
      ]
     },
     "execution_count": 78,
     "metadata": {},
     "output_type": "execute_result"
    },
    {
     "data": {
      "image/png": "[encoded data removed]",
      "text/plain": [
       "<Figure size 432x288 with 1 Axes>"
      ]
     },
     "metadata": {
      "needs_background": "light"
     },
     "output_type": "display_data"
    }
   ],
   "source": [
    "sns.boxplot(x=\"movieId\", y=\"rating\", data=ratings.query(\"movieId in [1,2,3,4,5]\"))"
   ]
  },
  {
   "cell_type": "markdown",
   "id": "74b2ea80",
   "metadata": {},
   "source": [
    "## Standard Deviation"
   ]
  },
  {
   "cell_type": "code",
   "execution_count": 79,
   "id": "982bedb9",
   "metadata": {},
   "outputs": [
    {
     "name": "stdout",
     "output_type": "stream",
     "text": [
      "Standard Deviation of Toy Story ratings: 0.8348591407114045\n",
      "Standard Deviation of Jumanji ratings: 0.8817134921476455\n"
     ]
    }
   ],
   "source": [
    "print(f\"Standard Deviation of Toy Story ratings: {toy_story_ratings.rating.std()}\")\n",
    "print(f\"Standard Deviation of Jumanji ratings: {jumanji_ratings.rating.std()}\")"
   ]
  },
  {
   "cell_type": "code",
   "execution_count": 80,
   "id": "43c4f9f5",
   "metadata": {},
   "outputs": [
    {
     "name": "stdout",
     "output_type": "stream",
     "text": [
      "Standard Deviation of Movie 1 ratings: 0.5\n",
      "Standard Deviation of Movie 2 ratings: 2.0\n"
     ]
    }
   ],
   "source": [
    "print(f\"Standard Deviation of Movie 1 ratings: {np.std(movie1_ratings)}\")\n",
    "print(f\"Standard Deviation of Movie 2 ratings: {np.std(movie2_ratings)}\")"
   ]
  },
  {
   "cell_type": "markdown",
   "id": "0a52cc9c",
   "metadata": {},
   "source": [
    "By calculating the Standard Deviation in those cases, you can how the data is distributed. For example, Movie1 ratings are closer than Movie2 ratings."
   ]
  }
 ],
 "metadata": {
  "kernelspec": {
   "display_name": "Python 3 (ipykernel)",
   "language": "python",
   "name": "python3"
  },
  "language_info": {
   "codemirror_mode": {
    "name": "ipython",
    "version": 3
   },
   "file_extension": ".py",
   "mimetype": "text/x-python",
   "name": "python",
   "nbconvert_exporter": "python",
   "pygments_lexer": "ipython3",
   "version": "3.9.7"
  }
 },
 "nbformat": 4,
 "nbformat_minor": 5
}
